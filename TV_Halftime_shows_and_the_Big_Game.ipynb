{
 "cells": [
  {
   "attachments": {},
   "cell_type": "markdown",
   "metadata": {},
   "source": [
    "# TV, halftime shows, and the Big Game\n",
    "#### Nam Nguyen\n",
    "<p>Halftime shows are a tradition during American football games at all levels of competition. Entertainment during the Super Bowl, the annual championship game of the National Football League (NFL), represents a fundamental link to pop culture, which helps broaden the television audience and nationwide interest. And, whether or not you like football, the Super Bowl is a spectacle. The half-time shows with the biggest musicians in the world, sometimes riding giant mechanical tigers or leaping from the roof of the stadium.</p>\n",
    "\n",
    "<p><img src='images/Super_bowl.jpg' alt='Super_bowl'></p>\n",
    "<p>In this notebook, we're going to find out how some of the elements of this show interact with each other. After exploring and cleaning our data a little, we're going to answer questions like:</p>\n",
    "<ul>\n",
    "    <li>What are the most extreme game outcomes?</li>\n",
    "    <li>How does the game affect television viewership?</li>\n",
    "    <li>How have viewership, TV ratings, and ad cost evolved over time?</li>\n",
    "    <li>Who are the most prolific musicians in terms of halftime show performances?</li>\n",
    "</ul>\n",
    "<p>In this notebook, we'll use the data set including three csv files scraped and polished from Wikipedia. It is made up of three CSV files, one with game data, one with TV data, and one with halftime musician data for all 52 Super Bowls through 2018.</p>"
   ]
  },
  {
   "cell_type": "markdown",
   "metadata": {},
   "source": [
    "## 1. Load and check data"
   ]
  },
  {
   "cell_type": "code",
   "execution_count": null,
   "metadata": {},
   "outputs": [],
   "source": []
  }
 ],
 "metadata": {
  "kernelspec": {
   "display_name": "Python 3",
   "language": "python",
   "name": "python3"
  },
  "language_info": {
   "codemirror_mode": {
    "name": "ipython",
    "version": 3
   },
   "file_extension": ".py",
   "mimetype": "text/x-python",
   "name": "python",
   "nbconvert_exporter": "python",
   "pygments_lexer": "ipython3",
   "version": "3.7.3"
  }
 },
 "nbformat": 4,
 "nbformat_minor": 4
}
